{
 "cells": [
  {
   "attachments": {},
   "cell_type": "markdown",
   "id": "37917af1-3ee4-40ea-9572-abe4f6873917",
   "metadata": {},
   "source": [
    "# Photo Conductivity\n",
    "\n",
    "When the electronic state of the defect interacts with radiation, carriers can be excited to the conduction band. This is called photoconductivity. To help elucidate how likely a defect is to cause photoconductivity, we can look at the band-decomposed contribution to the frequency-dependent dielectric function.\n",
    "Here we have replicated `VASP`'s density-density optical response calculated in the independent-particle picture in the `pymatgen.io.vasp.optics` module, and a allowed users to control which dipole matrix elements are accounted for by masking the dipole matrix elements stored in the `WAVEDER` file and manipulate the Fermi level to populate or depopulate the defect state.\n",
    "This essentially allows us to calculate the optical response for (defect)→(conduction band) and (valence band)→(defect) transitions in isolation.\n",
    "\n",
    "For more information on how `VASP` handles optical response, see the [VASP documentation](https://www.vasp.at/wiki/index.php/LOPTICS).\n",
    "\n",
    "For more details on how the python code works, please see the documentation for the `pymatgen.io.vasp.optics` module.\n"
   ]
  },
  {
   "cell_type": "code",
   "execution_count": null,
   "id": "5f5e5e37-a158-4379-8d2f-fd6265ec7e19",
   "metadata": {},
   "outputs": [],
   "source": [
    "from pathlib import Path\n",
    "from pymatgen.analysis.defects.ccd import HarmonicDefect, get_SRH_coefficient\n",
    "from pymatgen.io.vasp.optics import DielectricFunctionCalculator\n",
    "import numpy as np\n",
    "from matplotlib import pyplot as plt\n",
    "TEST_FILES = Path(\"../../../tests/test_files/v_Ga/\")"
   ]
  },
  {
   "attachments": {},
   "cell_type": "markdown",
   "id": "5e035360",
   "metadata": {},
   "source": [
    "To compute the optical response of a "
   ]
  },
  {
   "cell_type": "code",
   "execution_count": null,
   "id": "218597fb",
   "metadata": {},
   "outputs": [],
   "source": [
    "dir0 = TEST_FILES / \"ccd_0_-1\" / 1 \n",
    "hd0 = Har"
   ]
  }
 ],
 "metadata": {
  "language_info": {
   "codemirror_mode": {
    "name": "ipython",
    "version": 3
   },
   "file_extension": ".py",
   "mimetype": "text/x-python",
   "name": "python",
   "nbconvert_exporter": "python",
   "pygments_lexer": "ipython3",
   "version": "3.10.6"
  }
 },
 "nbformat": 4,
 "nbformat_minor": 5
}
