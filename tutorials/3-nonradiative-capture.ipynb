{
 "cells": [
  {
   "cell_type": "markdown",
   "id": "6930b94a-4443-45b0-94a5-452f6280fd5a",
   "metadata": {},
   "source": [
    "# Simulation of non-radiative capture\n"
   ]
  },
  {
   "cell_type": "code",
   "execution_count": null,
   "id": "239c7281-3a24-49cb-a161-64124c59dbc4",
   "metadata": {},
   "outputs": [],
   "source": [
    "from pathlib import Path\n",
    "from pymatgen.analysis.defects.ccd import HarmonicDefect, SRHCapture\n",
    "from matplotlib import pyplot as plt\n",
    "import numpy as np"
   ]
  },
  {
   "cell_type": "code",
   "execution_count": null,
   "id": "2d5264bc-c907-4d74-bb70-bc79c9050e7a",
   "metadata": {},
   "outputs": [],
   "source": [
    "TEST_FILES = Path(\"../tests/test_files/v_Ga/\")"
   ]
  },
  {
   "cell_type": "markdown",
   "id": "e410b507-e465-438b-95e3-64dce28f6f00",
   "metadata": {},
   "source": [
    "## Read a single Harmonic Defect\n",
    "\n",
    "We can parse an sorted list of directories with `HarmonicDefect.from_directories`.\n",
    "This will look into each directory for a `vasprun.xml` file from which the structures and energies will be extracted.\n",
    "\n",
    "The different constructors for `HarmonicDefect` all accept a list of sources where the energies and structures come from.\n",
    "The relaxed structure will be taken from the `relaxed_index` entry from this list and the electronic structure from this entry will be parsed to help identify the defect band in the band structure.\n"
   ]
  },
  {
   "cell_type": "code",
   "execution_count": null,
   "id": "ceaa50d4-57d2-4438-80e7-7cb4491985c1",
   "metadata": {},
   "outputs": [
    {
     "name": "stdout",
     "output_type": "stream",
     "text": [
      "The relaxed structure is in dirs01[1]\n",
      "HarmonicDefect(omega=0.505 eV, charge=0.0, relaxed_index=1, spin=1, defect_band=[(138, 0, 1), (138, 1, 1)])\n",
      "The spin channel (-1) is also automaticalliy determined by the IPR, by taking the spin channel with the lowest average IPR.\n"
     ]
    }
   ],
   "source": [
    "dirs01 = [TEST_FILES / \"ccd_0_-1\" / str(i) for i in [0,1,2]]\n",
    "hd0 = HarmonicDefect.from_directories(\n",
    "    directories=dirs01,\n",
    "    store_bandstructure=True,\n",
    ")\n",
    "print(f\"The relaxed structure is in dirs01[{hd0.relaxed_index}]\")\n",
    "print(hd0)\n",
    "print(f\"The spin channel ({hd0.spin}) is also automaticalliy determined by the \"\n",
    "      \"IPR, by taking the spin channel with the lowest average IPR.\")\n"
   ]
  },
  {
   "cell_type": "markdown",
   "id": "8e0c86ec-8fa4-4399-9900-c161b8149fbe",
   "metadata": {},
   "source": [
    "Note that the `defect_band` attribute of `HarmonicDefect` consists of multiple states presented as `(iband, ikpt, ispin)` index tuples, if `defect_band` was not provided to the constructor, the `relaxed_index` entry in the directory list will be checked for a Procar file, which will be parsed to give the \"best guess\" of the defect state in the band structure.\n",
    "For simulations with well-defined The band index is automatically determined by the inverse participation ratio.\n",
    "Note that the defect state reports the \"most-localized\" bands at each k-point so it is possible for the band index of the defect band to chang for different kpoint indices `ikpt`.\n",
    "\n",
    "\n",
    "<div class=\"alert alert-block alert-info\"><b>Note:</b> The automated defect state identification is still in testing so you can provide the `defect_band` manually to over-ride the automatic behavior.\n",
    "</div>\n"
   ]
  },
  {
   "cell_type": "markdown",
   "id": "43e620e9-93be-4883-b3a0-ecf5218a6355",
   "metadata": {},
   "source": [
    "### Potential energy surface\n",
    "\n",
    "The potential energy surface of the defect in a particular charge state is given by:\n",
    "\n",
    "$$\\frac{1}{2} \\omega^2 Q^2$$\n"
   ]
  },
  {
   "cell_type": "code",
   "execution_count": null,
   "id": "c4226814-ccfc-41f9-8eeb-5ad6a2d58eeb",
   "metadata": {},
   "outputs": [
    {
     "data": {
      "image/png": "[encoded data removed]",
      "text/plain": [
       "<Figure size 432x288 with 1 Axes>"
      ]
     },
     "metadata": {
      "needs_background": "light"
     },
     "output_type": "display_data"
    }
   ],
   "source": [
    "plt.plot(hd0.distortions, (np.array(hd0.energies) - hd0.energies[hd0.relaxed_index]) * 1000, \"o\", ms=10)\n",
    "xx = np.linspace(-0.2, 0.2, 20)\n",
    "yy = 0.5 * hd0.omega**2 * xx ** 2\n",
    "plt.plot(xx,yy*1000)\n",
    "plt.xlabel(\"Q [amu$^{1/2}$Å]\");\n",
    "plt.ylabel(\"Energy [meV]\");\n"
   ]
  },
  {
   "cell_type": "code",
   "execution_count": null,
   "id": "a8b9111d-40dd-4be5-ac24-2140c4ce7570",
   "metadata": {
    "tags": []
   },
   "outputs": [
    {
     "data": {
      "image/png": "[encoded data removed]",
      "text/plain": [
       "<Figure size 432x288 with 1 Axes>"
      ]
     },
     "metadata": {
      "needs_background": "light"
     },
     "output_type": "display_data"
    }
   ],
   "source": [
    "bs = hd0.relaxed_bandstructure\n",
    "eigs = bs.bands[hd0.spin][:,1]\n",
    "eigs_ref_efermi = eigs\n",
    "plt.hlines([eigs_ref_efermi], 0,1)\n",
    "plt.hlines(eigs_ref_efermi[hd0.defect_band_index], 0,1, colors=\"red\")\n",
    "plt.ylim(bs.efermi-0.1,bs.efermi+2.5)\n",
    "plt.xticks([]);\n",
    "plt.ylabel(f\"Energy Level Spin:{hd0.spin}\");\n"
   ]
  },
  {
   "cell_type": "markdown",
   "id": "3c47a859-9ed4-4e2f-a72a-22a8dabe79b7",
   "metadata": {},
   "source": [
    "From the eigenvalue file:\n",
    "\n",
    "```\n",
    "#   nband        eig (+1)        eig (-1)   occ (+1)   occ (-1)\n",
    "    138          4.281429        4.983887   0.999759   0.000000\n",
    "    139          4.341242        5.752503   0.963967   0.000000  <- Defect\n",
    "    140          6.269717        6.356752   0.000000   0.000000\n",
    "    141          8.441992        8.536628   0.000000   0.000000\n",
    "```"
   ]
  },
  {
   "cell_type": "markdown",
   "id": "4f23a97c-d658-43f5-9e73-e916a2af6c53",
   "metadata": {},
   "source": [
    "## Combined two HarmonicDefects and a series of WSWQ\n",
    "\n",
    "Read the information required for SRH recombination from directories.\n",
    "\n",
    "<div class=\"alert alert-block alert-info\"><b>Note:</b> I'm seriously considering changing this to be functional since this feels really over-engineered at this point.\n",
    "</div>\n"
   ]
  },
  {
   "cell_type": "code",
   "execution_count": null,
   "id": "0734c1ce-0ad6-4247-855a-67f41bc84aa3",
   "metadata": {},
   "outputs": [],
   "source": [
    "srh = SRHCapture.from_directories(\n",
    "    initial_dirs=[TEST_FILES / \"ccd_0_-1\" / str(i) for i in [0,1,2]],\n",
    "    final_dirs=[TEST_FILES / \"ccd_-1_0\" / str(i) for i in [0,1,2]],\n",
    "    wswq_dir = TEST_FILES / \"ccd_0_-1\" / \"wswqs\",\n",
    "    store_bandstructure=True,\n",
    ")\n"
   ]
  },
  {
   "cell_type": "code",
   "execution_count": null,
   "id": "2bd1ea7c-2af0-4e85-bd6a-bddd2f0b06e4",
   "metadata": {},
   "outputs": [],
   "source": [
    "T = np.linspace(100, 1000, 20)\n",
    "cc = srh.get_coeff(T, 0.3, kpt_index=1)"
   ]
  },
  {
   "cell_type": "code",
   "execution_count": null,
   "id": "de9f39cd-0061-4e97-96a4-bb36f599e78d",
   "metadata": {},
   "outputs": [],
   "source": [
    "plt.plot(T, cc)"
   ]
  }
 ],
 "metadata": {
  "kernelspec": {
   "display_name": "mp",
   "language": "python",
   "name": "mp"
  },
  "language_info": {
   "codemirror_mode": {
    "name": "ipython",
    "version": 3
   },
   "file_extension": ".py",
   "mimetype": "text/x-python",
   "name": "python",
   "nbconvert_exporter": "python",
   "pygments_lexer": "ipython3",
   "version": "3.10.6"
  }
 },
 "nbformat": 4,
 "nbformat_minor": 5
}
