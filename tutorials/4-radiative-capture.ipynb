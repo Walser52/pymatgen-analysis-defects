{
 "cells": [
  {
   "cell_type": "markdown",
   "id": "d459a8d1-492d-4ad6-954e-c982a6d7a4b0",
   "metadata": {},
   "source": [
    "# Simulation of Radiative Capture"
   ]
  },
  {
   "cell_type": "code",
   "execution_count": null,
   "id": "c402b1a9-1a07-4c4d-b075-942240c19d18",
   "metadata": {},
   "outputs": [],
   "source": [
    "%load_ext autoreload\n",
    "%autoreload 2\n",
    "from pathlib import Path\n",
    "from pymatgen.analysis.defects.ccd import HarmonicDefect, RadiativeCatpture\n",
    "from matplotlib import pyplot as plt\n",
    "import numpy as np\n",
    "TEST_FILES = Path(\"../tests/test_files/v_Ga/\")"
   ]
  },
  {
   "cell_type": "code",
   "execution_count": null,
   "id": "647e7395-c0e0-40ac-b92e-79c784688926",
   "metadata": {},
   "outputs": [
    {
     "name": "stderr",
     "output_type": "stream",
     "text": [
      "/Users/shen9/repos/mp/pymatgen/pymatgen/io/vasp/inputs.py:1822: UnknownPotcarWarning: POTCAR with symbol Ga_d has metadata that does not match                          any VASP POTCAR known to pymatgen. The data in this                          POTCAR is known to match the following functionals:                          ['unvie_PBE_52', 'PBE_54', 'PBE_52']\n",
      "  warnings.warn(\n",
      "/Users/shen9/repos/mp/pymatgen/pymatgen/io/vasp/inputs.py:1822: UnknownPotcarWarning: POTCAR with symbol N has metadata that does not match                          any VASP POTCAR known to pymatgen. The data in this                          POTCAR is known to match the following functionals:                          ['unvie_PBE_52', 'PBE_54', 'PBE_52']\n",
      "  warnings.warn(\n"
     ]
    }
   ],
   "source": [
    "rad_cap = RadiativeCatpture.from_directories(\n",
    "    initial_dirs=[TEST_FILES / \"ccd_0_-1\" / str(i) for i in [0,1,2]],\n",
    "    final_dirs=[TEST_FILES / \"ccd_-1_0\" / str(i) for i in [0,1,2]],\n",
    "    waveder_dir = TEST_FILES / \"ccd_0_-1\" / \"1\",\n",
    "    kpt_index=1,\n",
    "    store_bandstructure=True,\n",
    ")\n"
   ]
  },
  {
   "cell_type": "code",
   "execution_count": null,
   "id": "5b296b81-bfc7-44f2-8765-9e8f3947946c",
   "metadata": {},
   "outputs": [
    {
     "data": {
      "text/plain": [
       "(216, 2, 2)"
      ]
     },
     "execution_count": null,
     "metadata": {},
     "output_type": "execute_result"
    }
   ],
   "source": [
    "rad_cap._get_spectra().shape"
   ]
  },
  {
   "cell_type": "code",
   "execution_count": null,
   "id": "4f82bae4-71a9-4d36-a84b-ad7f00292c47",
   "metadata": {},
   "outputs": [
    {
     "data": {
      "text/plain": [
       "(216, 2, 2, 3)"
      ]
     },
     "execution_count": null,
     "metadata": {},
     "output_type": "execute_result"
    }
   ],
   "source": [
    "rad_cap._get_defect_dipoles().shape"
   ]
  },
  {
   "cell_type": "code",
   "execution_count": null,
   "id": "1f8c0a53-18e4-4768-9750-9125e1f93e25",
   "metadata": {},
   "outputs": [],
   "source": [
    "T = np.linspace(100, 1000, 20)\n",
    "rc = rad_cap.get_coeff(T, 0.7, 0.4)"
   ]
  },
  {
   "cell_type": "code",
   "execution_count": null,
   "id": "dee612cd-5b03-465c-9e63-5b7c0b0978fc",
   "metadata": {},
   "outputs": [
    {
     "data": {
      "text/plain": [
       "[<matplotlib.lines.Line2D at 0x2a07a2050>]"
      ]
     },
     "execution_count": null,
     "metadata": {},
     "output_type": "execute_result"
    },
    {
     "data": {
      "image/png": "[encoded data removed]",
      "text/plain": [
       "<Figure size 432x288 with 1 Axes>"
      ]
     },
     "metadata": {
      "needs_background": "light"
     },
     "output_type": "display_data"
    }
   ],
   "source": [
    "plt.plot(T, rc)"
   ]
  }
 ],
 "metadata": {
  "kernelspec": {
   "display_name": "mp",
   "language": "python",
   "name": "mp"
  },
  "language_info": {
   "codemirror_mode": {
    "name": "ipython",
    "version": 3
   },
   "file_extension": ".py",
   "mimetype": "text/x-python",
   "name": "python",
   "nbconvert_exporter": "python",
   "pygments_lexer": "ipython3",
   "version": "3.10.6"
  }
 },
 "nbformat": 4,
 "nbformat_minor": 5
}
