{
 "cells": [
  {
   "cell_type": "markdown",
   "metadata": {},
   "source": [
    "# Defining Defects \n",
    "\n",
    "A persistent challenge with organizing computational defect data is the ambiguity with which a defect simulation is defined.\n",
    "The standard practice is to simulate the isolated defects by using a larger simultion to create an isolated defect and then using charge-state corrections to approximate the properties of a defect in the dilute limit.\n",
    "This means that the same defect can be simulated with different simulation cells.\n",
    "Ideally, if you want to build a computational defects database that lasts many years, you cannot rely on user-supplied provanance to aggregate the data.\n",
    "You must have the external method for tracking whether two calculations are for the same defect.\n",
    "\n",
    "<div class=\"alert alert-block alert-info\"><b>Note:</b> This is only important for large database building. For an example of this please see the Materials Project battery database which only relies on structure matching to arrive at the list of insertion electrodes.\n",
    "</div>\n",
    "\n",
    "\n",
    "A core concept in this packge is that a defect is defined independently of the simultion cell.\n",
    "All of the information about which defect we are simulating is captured by the `Defect` object.\n",
    "A point defect is defined by the Wigner-Seitz unti cell representation of the bulk material stored as a `structure` attribute and a `site` attribute that indicates where the defect is in the unit cell.\n",
    "Different kinds of point defects all subclass the `Defect` objects which gives easy access to functions such as generating a cubic simulation supercell.\n",
    "As along as the database or any algorithm keeps track of this `Defect` object, you can just use simple structure matching to find out if two simulations represent the same defect.\n"
   ]
  },
  {
   "cell_type": "markdown",
   "metadata": {},
   "source": [
    "### Basic Example Using GaN"
   ]
  },
  {
   "cell_type": "code",
   "execution_count": null,
   "metadata": {},
   "outputs": [],
   "source": [
    "from pathlib import Path\n",
    "TEST_FILES = Path(\"../tests/test_files\")"
   ]
  },
  {
   "cell_type": "code",
   "execution_count": null,
   "metadata": {},
   "outputs": [
    {
     "name": "stdout",
     "output_type": "stream",
     "text": [
      "The bulk unit cell is the unique primitive WS cell\n"
     ]
    }
   ],
   "source": [
    "from pymatgen.analysis.defects.core import Substitution, Vacancy, DefectComplex\n",
    "from pymatgen.core import Structure, PeriodicSite, Species\n",
    "\n",
    "bulk = Structure.from_file(TEST_FILES / \"GaN.vasp\")\n",
    "if bulk.lattice == bulk.get_primitive_structure().lattice: # check that you have the primitive structure\n",
    "    print(\"The bulk unit cell is the unique primitive WS cell\")"
   ]
  },
  {
   "cell_type": "markdown",
   "metadata": {},
   "source": [
    "Since the two Ga sites are equivalent the Mg substitution we derive from both should be equivalent."
   ]
  },
  {
   "cell_type": "code",
   "execution_count": null,
   "metadata": {},
   "outputs": [],
   "source": [
    "ga_site0 = bulk.sites[0]\n",
    "ga_site1 = bulk.sites[1]\n",
    "n_site0 = bulk.sites[2]\n",
    "n_site1 = bulk.sites[3]\n",
    "\n",
    "mg_site0 = PeriodicSite(Species(\"Mg\"), ga_site0.frac_coords, bulk.lattice)\n",
    "mg_site1 = PeriodicSite(Species(\"Mg\"), ga_site1.frac_coords, bulk.lattice)"
   ]
  },
  {
   "cell_type": "code",
   "execution_count": null,
   "metadata": {},
   "outputs": [
    {
     "name": "stdout",
     "output_type": "stream",
     "text": [
      "The two Mg_Ga defects are equivalent.\n"
     ]
    }
   ],
   "source": [
    "mg_ga_defect0 = Substitution(structure=bulk, site=mg_site0)\n",
    "mg_ga_defect1 = Substitution(structure=bulk, site=mg_site1)\n",
    "if mg_ga_defect0 == mg_ga_defect1:\n",
    "    print(\"The two Mg_Ga defects are equivalent.\")"
   ]
  },
  {
   "cell_type": "markdown",
   "metadata": {},
   "source": [
    "Equivalence here is determined using the standard StructureMatcher settings. \n",
    "\n",
    "```python\n",
    "    def __eq__(self, __o: object) -> bool:\n",
    "        \"\"\"Equality operator.\"\"\"\n",
    "        if not isinstance(__o, Defect):\n",
    "            raise TypeError(\"Can only compare Defects to Defects\")\n",
    "        sm = StructureMatcher(comparator=ElementComparator())\n",
    "        return sm.fit(self.defect_structure, __o.defect_structure)\n",
    "```\n",
    "\n",
    "\n",
    "If you are in the situation where your lattice parameters have changed overtime (i.e. by inclusion of different functionals) you might consider using more custom maching between the defect.\n",
    "\n",
    "Since the defect equivalence is only determined by the `defect_structure` field, all defects can be compared using `__eq__`."
   ]
  },
  {
   "cell_type": "code",
   "execution_count": null,
   "metadata": {},
   "outputs": [
    {
     "name": "stdout",
     "output_type": "stream",
     "text": [
      "The two vacancies v_Ga and v_N are not equivalent.\n",
      "The two vacancies v_N and v_N are equivalent.\n"
     ]
    }
   ],
   "source": [
    "vac_defect0 = Vacancy(structure=bulk, site=mg_site0)\n",
    "vac_defect1 = Vacancy(structure=bulk, site=n_site0)\n",
    "vac_defect2 = Vacancy(structure=bulk, site=n_site1)\n",
    "if vac_defect0 != vac_defect1:\n",
    "    print(f\"The two vacancies {vac_defect0.name} and {vac_defect1.name} are not equivalent.\")\n",
    "    \n",
    "if vac_defect2 == vac_defect1:\n",
    "    print(f\"The two vacancies {vac_defect2.name} and {vac_defect1.name} are equivalent.\")"
   ]
  },
  {
   "cell_type": "markdown",
   "metadata": {},
   "source": [
    "### Defining defect complexes\n",
    "\n",
    "Defining defect complexes can be done by providing a list of defect objects generated using the same pristine structure."
   ]
  },
  {
   "cell_type": "code",
   "execution_count": null,
   "metadata": {},
   "outputs": [],
   "source": [
    "def_comp0 = DefectComplex(\n",
    "    defects=[mg_ga_defect0, vac_defect1]\n",
    ")\n",
    "def_comp1 = DefectComplex(\n",
    "    defects=[mg_ga_defect1, vac_defect1]\n",
    ")\n",
    "def_comp2 = DefectComplex(\n",
    "    defects=[mg_ga_defect1, vac_defect2]\n",
    ")"
   ]
  },
  {
   "cell_type": "markdown",
   "metadata": {},
   "source": [
    "The `defect_structure` for each complex is shown blow.\n",
    "\n",
    "<img src=\"https://raw.githubusercontent.com/materialsproject/pymatgen-analysis-defects/main/docs/source/_static/img/defect_complex_equiv.png\" width=\"800\"/>\n",
    "\n",
    "\n",
    "By inspection it is clear that `def_comp0` and `def_comp2` are symmetrically equivalent to each other and disinct from `def_comp1`, and our basic implementation of defect equivalence is able to verify this:"
   ]
  },
  {
   "cell_type": "code",
   "execution_count": null,
   "metadata": {},
   "outputs": [],
   "source": [
    "assert def_comp0 == def_comp2\n",
    "assert def_comp0 != def_comp1"
   ]
  },
  {
   "cell_type": "markdown",
   "metadata": {},
   "source": [
    "However some defect complexes might becomse inequivalent based on the periodic image you consider for the combination of sites.\n",
    "\n",
    "<div class=\"alert alert-block alert-info\"><b>Note:</b> To deal with these edge cases, we might have to add a dummy \"DefectComplex\" species at the \"center\" of the defect complex which will fix the selection of periodic for the different sites.  This is easy to implement but should be done when there is a good test case.\n",
    "</div>\n"
   ]
  },
  {
   "cell_type": "markdown",
   "metadata": {},
   "source": [
    "### Obtaining the simulation supercell\n",
    "\n",
    "The simplest way to generate a supercell for simulating the defect in a supercell is to just call the `get_supercell_structure` method for the defect.\n"
   ]
  },
  {
   "cell_type": "code",
   "execution_count": null,
   "metadata": {},
   "outputs": [
    {
     "data": {
      "text/plain": [
       "128"
      ]
     },
     "execution_count": null,
     "metadata": {},
     "output_type": "execute_result"
    }
   ],
   "source": [
    "import crystal_toolkit\n",
    "struct = mg_ga_defect0.get_supercell_structure()\n",
    "struct.num_sites"
   ]
  },
  {
   "cell_type": "code",
   "execution_count": null,
   "metadata": {},
   "outputs": [
    {
     "data": {
      "application/vnd.mp.ctk+json": {
       "contents": [
        {
         "contents": [
          {
           "clickable": true,
           "color": "#c28f8f",
           "id": "--atoms--0",
           "positions": [
            [
             4.824434999999999,
             6.499242856926,
             10.475312833439999
            ]
           ],
           "radius": 0.5,
           "tooltip": "Ga (4.824, 6.499, 10.475)",
           "type": "spheres"
          },
          {
           "clickable": true,
           "color": "#c28f8f",
           "id": "--atoms--1",
           "positions": [
            [
             8.040725000000002,
             0.9284648569260002,
             5.23535083344
            ]
           ],
           "radius": 0.5,
           "tooltip": "Ga (8.041, 0.928, 5.235)",
           "type": "spheres"
          },
          {
           "clickable": true,
           "color": "#3050f8",
           "id": "--atoms--2",
           "positions": [
            [
             1.608145,
             6.499242856926,
             1.96959691656
            ]
           ],
           "radius": 0.5,
           "tooltip": "N (1.608, 6.499, 1.970)",
           "type": "spheres"
          },
          {
           "clickable": true,
           "color": "#3050f8",
           "id": "--atoms--3",
           "positions": [
            [
             6.43258,
             9.284631856926,
             7.209558916560001
            ]
           ],
           "radius": 0.5,
           "tooltip": "N (6.433, 9.285, 7.210)",
           "type": "spheres"
          },
          {
           "clickable": true,
           "color": "#3050f8",
           "id": "--atoms--4",
           "positions": [
            [
             9.64887,
             3.713853856926,
             1.96959691656
            ]
           ],
           "radius": 0.5,
           "tooltip": "N (9.649, 3.714, 1.970)",
           "type": "spheres"
          },
          {
           "clickable": true,
           "color": "#c28f8f",
           "id": "--atoms--5",
           "positions": [
            [
             1.608145,
             4.6423131430739994,
             7.855331833439999
            ]
           ],
           "radius": 0.5,
           "tooltip": "Ga (1.608, 4.642, 7.855)",
           "type": "spheres"
          },
          {
           "clickable": true,
           "color": "#3050f8",
           "id": "--atoms--6",
           "positions": [
            [
             0,
             9.284631856926,
             1.96959691656
            ]
           ],
           "radius": 0.5,
           "tooltip": "N (0.000, 9.285, 1.970)",
           "type": "spheres"
          },
          {
           "clickable": true,
           "color": "#c28f8f",
           "id": "--atoms--7",
           "positions": [
            [
             9.64887,
             3.713853856926,
             5.23535083344
            ]
           ],
           "radius": 0.5,
           "tooltip": "Ga (9.649, 3.714, 5.235)",
           "type": "spheres"
          },
          {
           "clickable": true,
           "color": "#3050f8",
           "id": "--atoms--8",
           "positions": [
            [
             4.824434999999999,
             0.9284648569260002,
             7.209558916560001
            ]
           ],
           "radius": 0.5,
           "tooltip": "N (4.824, 0.928, 7.210)",
           "type": "spheres"
          },
          {
           "clickable": true,
           "color": "#3050f8",
           "id": "--atoms--9",
           "positions": [
            [
             11.257014999999999,
             6.499242856926,
             1.96959691656
            ]
           ],
           "radius": 0.5,
           "tooltip": "N (11.257, 6.499, 1.970)",
           "type": "spheres"
          },
          {
           "clickable": true,
           "color": "#c28f8f",
           "id": "--atoms--10",
           "positions": [
            [
             3.21629,
             7.427702143073999,
             7.855331833439999
            ]
           ],
           "radius": 0.5,
           "tooltip": "Ga (3.216, 7.428, 7.855)",
           "type": "spheres"
          },
          {
           "clickable": true,
           "color": "#c28f8f",
           "id": "--atoms--11",
           "positions": [
            [
             6.43258,
             1.8569241430740002,
             2.61536983344
            ]
           ],
           "radius": 0.5,
           "tooltip": "Ga (6.433, 1.857, 2.615)",
           "type": "spheres"
          },
          {
           "clickable": true,
           "color": "#c28f8f",
           "id": "--atoms--12",
           "positions": [
            [
             0,
             9.284631856926,
             5.23535083344
            ]
           ],
           "radius": 0.5,
           "tooltip": "Ga (0.000, 9.285, 5.235)",
           "type": "spheres"
          },
          {
           "clickable": true,
           "color": "#3050f8",
           "id": "--atoms--13",
           "positions": [
            [
             1.608145,
             10.213091143074001,
             9.829539916560002
            ]
           ],
           "radius": 0.5,
           "tooltip": "N (1.608, 10.213, 9.830)",
           "type": "spheres"
          },
          {
           "clickable": true,
           "color": "#3050f8",
           "id": "--atoms--14",
           "positions": [
            [
             8.040725000000002,
             4.6423131430739994,
             4.589577916560001
            ]
           ],
           "radius": 0.5,
           "tooltip": "N (8.041, 4.642, 4.590)",
           "type": "spheres"
          },
          {
           "clickable": true,
           "color": "#3050f8",
           "id": "--atoms--15",
           "positions": [
            [
             11.257014999999999,
             0.9284648569260002,
             1.96959691656
            ]
           ],
           "radius": 0.5,
           "tooltip": "N (11.257, 0.928, 1.970)",
           "type": "spheres"
          },
          {
           "clickable": true,
           "color": "#c28f8f",
           "id": "--atoms--16",
           "positions": [
            [
             9.64887,
             3.713853856926,
             -0.004611166560001121
            ]
           ],
           "radius": 0.5,
           "tooltip": "Ga (9.649, 3.714, -0.005)",
           "type": "spheres"
          },
          {
           "clickable": true,
           "color": "#3050f8",
           "id": "--atoms--17",
           "positions": [
            [
             12.86516,
             9.284631856926,
             1.96959691656
            ]
           ],
           "radius": 0.5,
           "tooltip": "N (12.865, 9.285, 1.970)",
           "type": "spheres"
          },
          {
           "clickable": true,
           "color": "#c28f8f",
           "id": "--atoms--18",
           "positions": [
            [
             8.040725000000002,
             4.6423131430739994,
             2.61536983344
            ]
           ],
           "radius": 0.5,
           "tooltip": "Ga (8.041, 4.642, 2.615)",
           "type": "spheres"
          },
          {
           "clickable": true,
           "color": "#3050f8",
           "id": "--atoms--19",
           "positions": [
            [
             3.21629,
             1.8569241430740002,
             9.829539916560002
            ]
           ],
           "radius": 0.5,
           "tooltip": "N (3.216, 1.857, 9.830)",
           "type": "spheres"
          },
          {
           "clickable": true,
           "color": "#3050f8",
           "id": "--atoms--20",
           "positions": [
            [
             9.64887,
             7.427702143073999,
             4.589577916560001
            ]
           ],
           "radius": 0.5,
           "tooltip": "N (9.649, 7.428, 4.590)",
           "type": "spheres"
          },
          {
           "clickable": true,
           "color": "#c28f8f",
           "id": "--atoms--21",
           "positions": [
            [
             11.257014999999999,
             6.499242856926,
             -0.004611166560001121
            ]
           ],
           "radius": 0.5,
           "tooltip": "Ga (11.257, 6.499, -0.005)",
           "type": "spheres"
          },
          {
           "clickable": true,
           "color": "#c28f8f",
           "id": "--atoms--22",
           "positions": [
            [
             12.86516,
             9.284631856926,
             5.23535083344
            ]
           ],
           "radius": 0.5,
           "tooltip": "Ga (12.865, 9.285, 5.235)",
           "type": "spheres"
          },
          {
           "clickable": true,
           "color": "#c28f8f",
           "id": "--atoms--23",
           "positions": [
            [
             8.040725000000002,
             10.213091143074001,
             2.61536983344
            ]
           ],
           "radius": 0.5,
           "tooltip": "Ga (8.041, 10.213, 2.615)",
           "type": "spheres"
          },
          {
           "clickable": true,
           "color": "#c28f8f",
           "id": "--atoms--24",
           "positions": [
            [
             0,
             1.8569241430740002,
             7.855331833439999
            ]
           ],
           "radius": 0.5,
           "tooltip": "Ga (0.000, 1.857, 7.855)",
           "type": "spheres"
          },
          {
           "clickable": true,
           "color": "#3050f8",
           "id": "--atoms--25",
           "positions": [
            [
             9.64887,
             1.8569241430740002,
             4.589577916560001
            ]
           ],
           "radius": 0.5,
           "tooltip": "N (9.649, 1.857, 4.590)",
           "type": "spheres"
          },
          {
           "clickable": true,
           "color": "#3050f8",
           "id": "--atoms--26",
           "positions": [
            [
             1.608145,
             6.499242856926,
             7.209558916560001
            ]
           ],
           "radius": 0.5,
           "tooltip": "N (1.608, 6.499, 7.210)",
           "type": "spheres"
          },
          {
           "clickable": true,
           "color": "#c28f8f",
           "id": "--atoms--27",
           "positions": [
            [
             0,
             9.284631856926,
             -0.004611166560001121
            ]
           ],
           "radius": 0.5,
           "tooltip": "Ga (0.000, 9.285, -0.005)",
           "type": "spheres"
          },
          {
           "clickable": true,
           "color": "#c28f8f",
           "id": "--atoms--28",
           "positions": [
            [
             1.608145,
             6.499242856926,
             10.475312833439999
            ]
           ],
           "radius": 0.5,
           "tooltip": "Ga (1.608, 6.499, 10.475)",
           "type": "spheres"
          },
          {
           "clickable": true,
           "color": "#c28f8f",
           "id": "--atoms--29",
           "positions": [
            [
             4.824434999999999,
             0.9284648569260002,
             5.23535083344
            ]
           ],
           "radius": 0.5,
           "tooltip": "Ga (4.824, 0.928, 5.235)",
           "type": "spheres"
          },
          {
           "clickable": true,
           "color": "#3050f8",
           "id": "--atoms--30",
           "positions": [
            [
             11.257014999999999,
             4.6423131430739994,
             4.589577916560001
            ]
           ],
           "radius": 0.5,
           "tooltip": "N (11.257, 4.642, 4.590)",
           "type": "spheres"
          },
          {
           "clickable": true,
           "color": "#3050f8",
           "id": "--atoms--31",
           "positions": [
            [
             3.21629,
             9.284631856926,
             7.209558916560001
            ]
           ],
           "radius": 0.5,
           "tooltip": "N (3.216, 9.285, 7.210)",
           "type": "spheres"
          },
          {
           "clickable": true,
           "color": "#c28f8f",
           "id": "--atoms--32",
           "positions": [
            [
             12.86516,
             1.8569241430740002,
             7.855331833439999
            ]
           ],
           "radius": 0.5,
           "tooltip": "Ga (12.865, 1.857, 7.855)",
           "type": "spheres"
          },
          {
           "clickable": true,
           "color": "#c28f8f",
           "id": "--atoms--33",
           "positions": [
            [
             8.040725000000002,
             6.499242856926,
             5.23535083344
            ]
           ],
           "radius": 0.5,
           "tooltip": "Ga (8.041, 6.499, 5.235)",
           "type": "spheres"
          },
          {
           "clickable": true,
           "color": "#3050f8",
           "id": "--atoms--34",
           "positions": [
            [
             3.21629,
             3.713853856926,
             7.209558916560001
            ]
           ],
           "radius": 0.5,
           "tooltip": "N (3.216, 3.714, 7.210)",
           "type": "spheres"
          },
          {
           "clickable": true,
           "color": "#3050f8",
           "id": "--atoms--35",
           "positions": [
            [
             9.64887,
             9.284631856926,
             1.96959691656
            ]
           ],
           "radius": 0.5,
           "tooltip": "N (9.649, 9.285, 1.970)",
           "type": "spheres"
          },
          {
           "clickable": true,
           "color": "#c28f8f",
           "id": "--atoms--36",
           "positions": [
            [
             11.257014999999999,
             0.9284648569260002,
             10.475312833439999
            ]
           ],
           "radius": 0.5,
           "tooltip": "Ga (11.257, 0.928, 10.475)",
           "type": "spheres"
          },
          {
           "clickable": true,
           "color": "#c28f8f",
           "id": "--atoms--37",
           "positions": [
            [
             9.64887,
             9.284631856926,
             5.23535083344
            ]
           ],
           "radius": 0.5,
           "tooltip": "Ga (9.649, 9.285, 5.235)",
           "type": "spheres"
          },
          {
           "clickable": true,
           "color": "#3050f8",
           "id": "--atoms--38",
           "positions": [
            [
             4.824434999999999,
             6.499242856926,
             7.209558916560001
            ]
           ],
           "radius": 0.5,
           "tooltip": "N (4.824, 6.499, 7.210)",
           "type": "spheres"
          },
          {
           "clickable": true,
           "color": "#3050f8",
           "id": "--atoms--39",
           "positions": [
            [
             8.040725000000002,
             0.9284648569260002,
             1.96959691656
            ]
           ],
           "radius": 0.5,
           "tooltip": "N (8.041, 0.928, 1.970)",
           "type": "spheres"
          },
          {
           "clickable": true,
           "color": "#3050f8",
           "id": "--atoms--40",
           "positions": [
            [
             0,
             3.713853856926,
             7.209558916560001
            ]
           ],
           "radius": 0.5,
           "tooltip": "N (0.000, 3.714, 7.210)",
           "type": "spheres"
          },
          {
           "clickable": true,
           "color": "#c28f8f",
           "id": "--atoms--41",
           "positions": [
            [
             6.43258,
             3.713853856926,
             -0.004611166560001121
            ]
           ],
           "radius": 0.5,
           "tooltip": "Ga (6.433, 3.714, -0.005)",
           "type": "spheres"
          },
          {
           "clickable": true,
           "color": "#c28f8f",
           "id": "--atoms--42",
           "positions": [
            [
             6.43258,
             7.427702143073999,
             2.61536983344
            ]
           ],
           "radius": 0.5,
           "tooltip": "Ga (6.433, 7.428, 2.615)",
           "type": "spheres"
          },
          {
           "clickable": true,
           "color": "#3050f8",
           "id": "--atoms--43",
           "positions": [
            [
             1.608145,
             4.6423131430739994,
             9.829539916560002
            ]
           ],
           "radius": 0.5,
           "tooltip": "N (1.608, 4.642, 9.830)",
           "type": "spheres"
          },
          {
           "clickable": true,
           "color": "#3050f8",
           "id": "--atoms--44",
           "positions": [
            [
             4.824434999999999,
             10.213091143074001,
             4.589577916560001
            ]
           ],
           "radius": 0.5,
           "tooltip": "N (4.824, 10.213, 4.590)",
           "type": "spheres"
          },
          {
           "clickable": true,
           "color": "#c28f8f",
           "id": "--atoms--45",
           "positions": [
            [
             9.64887,
             9.284631856926,
             -0.004611166560001121
            ]
           ],
           "radius": 0.5,
           "tooltip": "Ga (9.649, 9.285, -0.005)",
           "type": "spheres"
          },
          {
           "clickable": true,
           "color": "#c28f8f",
           "id": "--atoms--46",
           "positions": [
            [
             0,
             3.713853856926,
             10.475312833439999
            ]
           ],
           "radius": 0.5,
           "tooltip": "Ga (0.000, 3.714, 10.475)",
           "type": "spheres"
          },
          {
           "clickable": true,
           "color": "#c28f8f",
           "id": "--atoms--47",
           "positions": [
            [
             8.040725000000002,
             6.499242856926,
             -0.004611166560001121
            ]
           ],
           "radius": 0.5,
           "tooltip": "Ga (8.041, 6.499, -0.005)",
           "type": "spheres"
          },
          {
           "clickable": true,
           "color": "#3050f8",
           "id": "--atoms--48",
           "positions": [
            [
             12.86516,
             3.713853856926,
             7.209558916560001
            ]
           ],
           "radius": 0.5,
           "tooltip": "N (12.865, 3.714, 7.210)",
           "type": "spheres"
          },
          {
           "clickable": true,
           "color": "#c28f8f",
           "id": "--atoms--49",
           "positions": [
            [
             4.824434999999999,
             10.213091143074001,
             2.61536983344
            ]
           ],
           "radius": 0.5,
           "tooltip": "Ga (4.824, 10.213, 2.615)",
           "type": "spheres"
          },
          {
           "clickable": true,
           "color": "#c28f8f",
           "id": "--atoms--50",
           "positions": [
            [
             9.64887,
             1.8569241430740002,
             7.855331833439999
            ]
           ],
           "radius": 0.5,
           "tooltip": "Ga (9.649, 1.857, 7.855)",
           "type": "spheres"
          },
          {
           "clickable": true,
           "color": "#3050f8",
           "id": "--atoms--51",
           "positions": [
            [
             3.21629,
             7.427702143073999,
             9.829539916560002
            ]
           ],
           "radius": 0.5,
           "tooltip": "N (3.216, 7.428, 9.830)",
           "type": "spheres"
          },
          {
           "clickable": true,
           "color": "#3050f8",
           "id": "--atoms--52",
           "positions": [
            [
             6.43258,
             1.8569241430740002,
             4.589577916560001
            ]
           ],
           "radius": 0.5,
           "tooltip": "N (6.433, 1.857, 4.590)",
           "type": "spheres"
          },
          {
           "clickable": true,
           "color": "#3050f8",
           "id": "--atoms--53",
           "positions": [
            [
             11.257014999999999,
             4.6423131430739994,
             9.829539916560002
            ]
           ],
           "radius": 0.5,
           "tooltip": "N (11.257, 4.642, 9.830)",
           "type": "spheres"
          },
          {
           "clickable": true,
           "color": "#c28f8f",
           "id": "--atoms--54",
           "positions": [
            [
             8.040725000000002,
             0.9284648569260002,
             -0.004611166560001121
            ]
           ],
           "radius": 0.5,
           "tooltip": "Ga (8.041, 0.928, -0.005)",
           "type": "spheres"
          },
          {
           "clickable": true,
           "color": "#c28f8f",
           "id": "--atoms--55",
           "positions": [
            [
             0,
             7.427702143073999,
             7.855331833439999
            ]
           ],
           "radius": 0.5,
           "tooltip": "Ga (0.000, 7.428, 7.855)",
           "type": "spheres"
          },
          {
           "clickable": true,
           "color": "#3050f8",
           "id": "--atoms--56",
           "positions": [
            [
             11.257014999999999,
             10.213091143074001,
             9.829539916560002
            ]
           ],
           "radius": 0.5,
           "tooltip": "N (11.257, 10.213, 9.830)",
           "type": "spheres"
          },
          {
           "clickable": true,
           "color": "#c28f8f",
           "id": "--atoms--57",
           "positions": [
            [
             12.86516,
             3.713853856926,
             10.475312833439999
            ]
           ],
           "radius": 0.5,
           "tooltip": "Ga (12.865, 3.714, 10.475)",
           "type": "spheres"
          },
          {
           "clickable": true,
           "color": "#c28f8f",
           "id": "--atoms--58",
           "positions": [
            [
             11.257014999999999,
             4.6423131430739994,
             7.855331833439999
            ]
           ],
           "radius": 0.5,
           "tooltip": "Ga (11.257, 4.642, 7.855)",
           "type": "spheres"
          },
          {
           "clickable": true,
           "color": "#c28f8f",
           "id": "--atoms--59",
           "positions": [
            [
             11.257014999999999,
             10.213091143074001,
             7.855331833439999
            ]
           ],
           "radius": 0.5,
           "tooltip": "Ga (11.257, 10.213, 7.855)",
           "type": "spheres"
          },
          {
           "clickable": true,
           "color": "#c28f8f",
           "id": "--atoms--60",
           "positions": [
            [
             4.824434999999999,
             6.499242856926,
             5.23535083344
            ]
           ],
           "radius": 0.5,
           "tooltip": "Ga (4.824, 6.499, 5.235)",
           "type": "spheres"
          },
          {
           "clickable": true,
           "color": "#3050f8",
           "id": "--atoms--61",
           "positions": [
            [
             8.040725000000002,
             10.213091143074001,
             4.589577916560001
            ]
           ],
           "radius": 0.5,
           "tooltip": "N (8.041, 10.213, 4.590)",
           "type": "spheres"
          },
          {
           "clickable": true,
           "color": "#3050f8",
           "id": "--atoms--62",
           "positions": [
            [
             0,
             1.8569241430740002,
             9.829539916560002
            ]
           ],
           "radius": 0.5,
           "tooltip": "N (0.000, 1.857, 9.830)",
           "type": "spheres"
          },
          {
           "clickable": true,
           "color": "#3050f8",
           "id": "--atoms--63",
           "positions": [
            [
             6.43258,
             9.284631856926,
             1.96959691656
            ]
           ],
           "radius": 0.5,
           "tooltip": "N (6.433, 9.285, 1.970)",
           "type": "spheres"
          },
          {
           "clickable": true,
           "color": "#c28f8f",
           "id": "--atoms--64",
           "positions": [
            [
             12.86516,
             7.427702143073999,
             7.855331833439999
            ]
           ],
           "radius": 0.5,
           "tooltip": "Ga (12.865, 7.428, 7.855)",
           "type": "spheres"
          },
          {
           "clickable": true,
           "color": "#c28f8f",
           "id": "--atoms--65",
           "positions": [
            [
             9.64887,
             3.713853856926,
             10.475312833439999
            ]
           ],
           "radius": 0.5,
           "tooltip": "Ga (9.649, 3.714, 10.475)",
           "type": "spheres"
          },
          {
           "clickable": true,
           "color": "#3050f8",
           "id": "--atoms--66",
           "positions": [
            [
             6.43258,
             3.713853856926,
             1.96959691656
            ]
           ],
           "radius": 0.5,
           "tooltip": "N (6.433, 3.714, 1.970)",
           "type": "spheres"
          },
          {
           "clickable": true,
           "color": "#c28f8f",
           "id": "--atoms--67",
           "positions": [
            [
             6.43258,
             9.284631856926,
             5.23535083344
            ]
           ],
           "radius": 0.5,
           "tooltip": "Ga (6.433, 9.285, 5.235)",
           "type": "spheres"
          },
          {
           "clickable": true,
           "color": "#3050f8",
           "id": "--atoms--68",
           "positions": [
            [
             4.824434999999999,
             0.9284648569260002,
             1.96959691656
            ]
           ],
           "radius": 0.5,
           "tooltip": "N (4.824, 0.928, 1.970)",
           "type": "spheres"
          },
          {
           "clickable": true,
           "color": "#3050f8",
           "id": "--atoms--69",
           "positions": [
            [
             12.86516,
             1.8569241430740002,
             9.829539916560002
            ]
           ],
           "radius": 0.5,
           "tooltip": "N (12.865, 1.857, 9.830)",
           "type": "spheres"
          },
          {
           "clickable": true,
           "color": "#c28f8f",
           "id": "--atoms--70",
           "positions": [
            [
             3.21629,
             7.427702143073999,
             2.61536983344
            ]
           ],
           "radius": 0.5,
           "tooltip": "Ga (3.216, 7.428, 2.615)",
           "type": "spheres"
          },
          {
           "clickable": true,
           "color": "#c28f8f",
           "id": "--atoms--71",
           "positions": [
            [
             6.43258,
             3.713853856926,
             5.23535083344
            ]
           ],
           "radius": 0.5,
           "tooltip": "Ga (6.433, 3.714, 5.235)",
           "type": "spheres"
          },
          {
           "clickable": true,
           "color": "#c28f8f",
           "id": "--atoms--72",
           "positions": [
            [
             11.257014999999999,
             6.499242856926,
             10.475312833439999
            ]
           ],
           "radius": 0.5,
           "tooltip": "Ga (11.257, 6.499, 10.475)",
           "type": "spheres"
          },
          {
           "clickable": true,
           "color": "#3050f8",
           "id": "--atoms--73",
           "positions": [
            [
             1.608145,
             10.213091143074001,
             4.589577916560001
            ]
           ],
           "radius": 0.5,
           "tooltip": "N (1.608, 10.213, 4.590)",
           "type": "spheres"
          },
          {
           "clickable": true,
           "color": "#3050f8",
           "id": "--atoms--74",
           "positions": [
            [
             8.040725000000002,
             6.499242856926,
             1.96959691656
            ]
           ],
           "radius": 0.5,
           "tooltip": "N (8.041, 6.499, 1.970)",
           "type": "spheres"
          },
          {
           "clickable": true,
           "color": "#3050f8",
           "id": "--atoms--75",
           "positions": [
            [
             0,
             9.284631856926,
             7.209558916560001
            ]
           ],
           "radius": 0.5,
           "tooltip": "N (0.000, 9.285, 7.210)",
           "type": "spheres"
          },
          {
           "clickable": true,
           "color": "#c28f8f",
           "id": "--atoms--76",
           "positions": [
            [
             6.43258,
             9.284631856926,
             -0.004611166560001121
            ]
           ],
           "radius": 0.5,
           "tooltip": "Ga (6.433, 9.285, -0.005)",
           "type": "spheres"
          },
          {
           "clickable": true,
           "color": "#c28f8f",
           "id": "--atoms--77",
           "positions": [
            [
             3.21629,
             1.8569241430740002,
             2.61536983344
            ]
           ],
           "radius": 0.5,
           "tooltip": "Ga (3.216, 1.857, 2.615)",
           "type": "spheres"
          },
          {
           "clickable": true,
           "color": "#3050f8",
           "id": "--atoms--78",
           "positions": [
            [
             4.824434999999999,
             4.6423131430739994,
             4.589577916560001
            ]
           ],
           "radius": 0.5,
           "tooltip": "N (4.824, 4.642, 4.590)",
           "type": "spheres"
          },
          {
           "clickable": true,
           "color": "#8aff00",
           "id": "--atoms--79",
           "positions": [
            [
             1.608145,
             10.213091143074001,
             2.61536983344
            ]
           ],
           "radius": 0.5,
           "tooltip": "Mg (1.608, 10.213, 2.615)",
           "type": "spheres"
          },
          {
           "clickable": true,
           "color": "#c28f8f",
           "id": "--atoms--80",
           "positions": [
            [
             0,
             9.284631856926,
             10.475312833439999
            ]
           ],
           "radius": 0.5,
           "tooltip": "Ga (0.000, 9.285, 10.475)",
           "type": "spheres"
          },
          {
           "clickable": true,
           "color": "#3050f8",
           "id": "--atoms--81",
           "positions": [
            [
             3.21629,
             1.8569241430740002,
             4.589577916560001
            ]
           ],
           "radius": 0.5,
           "tooltip": "N (3.216, 1.857, 4.590)",
           "type": "spheres"
          },
          {
           "clickable": true,
           "color": "#3050f8",
           "id": "--atoms--82",
           "positions": [
            [
             11.257014999999999,
             0.9284648569260002,
             7.209558916560001
            ]
           ],
           "radius": 0.5,
           "tooltip": "N (11.257, 0.928, 7.210)",
           "type": "spheres"
          },
          {
           "clickable": true,
           "color": "#c28f8f",
           "id": "--atoms--83",
           "positions": [
            [
             4.824434999999999,
             0.9284648569260002,
             -0.004611166560001121
            ]
           ],
           "radius": 0.5,
           "tooltip": "Ga (4.824, 0.928, -0.005)",
           "type": "spheres"
          },
          {
           "clickable": true,
           "color": "#3050f8",
           "id": "--atoms--84",
           "positions": [
            [
             12.86516,
             9.284631856926,
             7.209558916560001
            ]
           ],
           "radius": 0.5,
           "tooltip": "N (12.865, 9.285, 7.210)",
           "type": "spheres"
          },
          {
           "clickable": true,
           "color": "#c28f8f",
           "id": "--atoms--85",
           "positions": [
            [
             9.64887,
             7.427702143073999,
             7.855331833439999
            ]
           ],
           "radius": 0.5,
           "tooltip": "Ga (9.649, 7.428, 7.855)",
           "type": "spheres"
          },
          {
           "clickable": true,
           "color": "#c28f8f",
           "id": "--atoms--86",
           "positions": [
            [
             0,
             1.8569241430740002,
             2.61536983344
            ]
           ],
           "radius": 0.5,
           "tooltip": "Ga (0.000, 1.857, 2.615)",
           "type": "spheres"
          },
          {
           "clickable": true,
           "color": "#3050f8",
           "id": "--atoms--87",
           "positions": [
            [
             6.43258,
             7.427702143073999,
             4.589577916560001
            ]
           ],
           "radius": 0.5,
           "tooltip": "N (6.433, 7.428, 4.590)",
           "type": "spheres"
          },
          {
           "clickable": true,
           "color": "#c28f8f",
           "id": "--atoms--88",
           "positions": [
            [
             4.824434999999999,
             4.6423131430739994,
             2.61536983344
            ]
           ],
           "radius": 0.5,
           "tooltip": "Ga (4.824, 4.642, 2.615)",
           "type": "spheres"
          },
          {
           "clickable": true,
           "color": "#3050f8",
           "id": "--atoms--89",
           "positions": [
            [
             8.040725000000002,
             10.213091143074001,
             9.829539916560002
            ]
           ],
           "radius": 0.5,
           "tooltip": "N (8.041, 10.213, 9.830)",
           "type": "spheres"
          },
          {
           "clickable": true,
           "color": "#c28f8f",
           "id": "--atoms--90",
           "positions": [
            [
             12.86516,
             9.284631856926,
             10.475312833439999
            ]
           ],
           "radius": 0.5,
           "tooltip": "Ga (12.865, 9.285, 10.475)",
           "type": "spheres"
          },
          {
           "clickable": true,
           "color": "#c28f8f",
           "id": "--atoms--91",
           "positions": [
            [
             8.040725000000002,
             10.213091143074001,
             7.855331833439999
            ]
           ],
           "radius": 0.5,
           "tooltip": "Ga (8.041, 10.213, 7.855)",
           "type": "spheres"
          },
          {
           "clickable": true,
           "color": "#3050f8",
           "id": "--atoms--92",
           "positions": [
            [
             9.64887,
             1.8569241430740002,
             9.829539916560002
            ]
           ],
           "radius": 0.5,
           "tooltip": "N (9.649, 1.857, 9.830)",
           "type": "spheres"
          },
          {
           "clickable": true,
           "color": "#c28f8f",
           "id": "--atoms--93",
           "positions": [
            [
             12.86516,
             1.8569241430740002,
             2.61536983344
            ]
           ],
           "radius": 0.5,
           "tooltip": "Ga (12.865, 1.857, 2.615)",
           "type": "spheres"
          },
          {
           "clickable": true,
           "color": "#c28f8f",
           "id": "--atoms--94",
           "positions": [
            [
             1.608145,
             0.9284648569260002,
             5.23535083344
            ]
           ],
           "radius": 0.5,
           "tooltip": "Ga (1.608, 0.928, 5.235)",
           "type": "spheres"
          },
          {
           "clickable": true,
           "color": "#c28f8f",
           "id": "--atoms--95",
           "positions": [
            [
             6.43258,
             3.713853856926,
             10.475312833439999
            ]
           ],
           "radius": 0.5,
           "tooltip": "Ga (6.433, 3.714, 10.475)",
           "type": "spheres"
          },
          {
           "clickable": true,
           "color": "#3050f8",
           "id": "--atoms--96",
           "positions": [
            [
             0,
             7.427702143073999,
             9.829539916560002
            ]
           ],
           "radius": 0.5,
           "tooltip": "N (0.000, 7.428, 9.830)",
           "type": "spheres"
          },
          {
           "clickable": true,
           "color": "#3050f8",
           "id": "--atoms--97",
           "positions": [
            [
             3.21629,
             3.713853856926,
             1.96959691656
            ]
           ],
           "radius": 0.5,
           "tooltip": "N (3.216, 3.714, 1.970)",
           "type": "spheres"
          },
          {
           "clickable": true,
           "color": "#c28f8f",
           "id": "--atoms--98",
           "positions": [
            [
             9.64887,
             9.284631856926,
             10.475312833439999
            ]
           ],
           "radius": 0.5,
           "tooltip": "Ga (9.649, 9.285, 10.475)",
           "type": "spheres"
          },
          {
           "clickable": true,
           "color": "#c28f8f",
           "id": "--atoms--99",
           "positions": [
            [
             3.21629,
             3.713853856926,
             5.23535083344
            ]
           ],
           "radius": 0.5,
           "tooltip": "Ga (3.216, 3.714, 5.235)",
           "type": "spheres"
          },
          {
           "clickable": true,
           "color": "#c28f8f",
           "id": "--atoms--100",
           "positions": [
            [
             8.040725000000002,
             6.499242856926,
             10.475312833439999
            ]
           ],
           "radius": 0.5,
           "tooltip": "Ga (8.041, 6.499, 10.475)",
           "type": "spheres"
          },
          {
           "clickable": true,
           "color": "#3050f8",
           "id": "--atoms--101",
           "positions": [
            [
             4.824434999999999,
             6.499242856926,
             1.96959691656
            ]
           ],
           "radius": 0.5,
           "tooltip": "N (4.824, 6.499, 1.970)",
           "type": "spheres"
          },
          {
           "clickable": true,
           "color": "#3050f8",
           "id": "--atoms--102",
           "positions": [
            [
             9.64887,
             9.284631856926,
             7.209558916560001
            ]
           ],
           "radius": 0.5,
           "tooltip": "N (9.649, 9.285, 7.210)",
           "type": "spheres"
          },
          {
           "clickable": true,
           "color": "#c28f8f",
           "id": "--atoms--103",
           "positions": [
            [
             3.21629,
             9.284631856926,
             -0.004611166560001121
            ]
           ],
           "radius": 0.5,
           "tooltip": "Ga (3.216, 9.285, -0.005)",
           "type": "spheres"
          },
          {
           "clickable": true,
           "color": "#3050f8",
           "id": "--atoms--104",
           "positions": [
            [
             12.86516,
             7.427702143073999,
             9.829539916560002
            ]
           ],
           "radius": 0.5,
           "tooltip": "N (12.865, 7.428, 9.830)",
           "type": "spheres"
          },
          {
           "clickable": true,
           "color": "#c28f8f",
           "id": "--atoms--105",
           "positions": [
            [
             8.040725000000002,
             0.9284648569260002,
             10.475312833439999
            ]
           ],
           "radius": 0.5,
           "tooltip": "Ga (8.041, 0.928, 10.475)",
           "type": "spheres"
          },
          {
           "clickable": true,
           "color": "#3050f8",
           "id": "--atoms--106",
           "positions": [
            [
             1.608145,
             4.6423131430739994,
             4.589577916560001
            ]
           ],
           "radius": 0.5,
           "tooltip": "N (1.608, 4.642, 4.590)",
           "type": "spheres"
          },
          {
           "clickable": true,
           "color": "#3050f8",
           "id": "--atoms--107",
           "positions": [
            [
             9.64887,
             3.713853856926,
             7.209558916560001
            ]
           ],
           "radius": 0.5,
           "tooltip": "N (9.649, 3.714, 7.210)",
           "type": "spheres"
          },
          {
           "clickable": true,
           "color": "#c28f8f",
           "id": "--atoms--108",
           "positions": [
            [
             3.21629,
             3.713853856926,
             -0.004611166560001121
            ]
           ],
           "radius": 0.5,
           "tooltip": "Ga (3.216, 3.714, -0.005)",
           "type": "spheres"
          },
          {
           "clickable": true,
           "color": "#c28f8f",
           "id": "--atoms--109",
           "positions": [
            [
             1.608145,
             0.9284648569260002,
             -0.004611166560001121
            ]
           ],
           "radius": 0.5,
           "tooltip": "Ga (1.608, 0.928, -0.005)",
           "type": "spheres"
          },
          {
           "clickable": true,
           "color": "#c28f8f",
           "id": "--atoms--110",
           "positions": [
            [
             6.43258,
             7.427702143073999,
             7.855331833439999
            ]
           ],
           "radius": 0.5,
           "tooltip": "Ga (6.433, 7.428, 7.855)",
           "type": "spheres"
          },
          {
           "clickable": true,
           "color": "#c28f8f",
           "id": "--atoms--111",
           "positions": [
            [
             1.608145,
             4.6423131430739994,
             2.61536983344
            ]
           ],
           "radius": 0.5,
           "tooltip": "Ga (1.608, 4.642, 2.615)",
           "type": "spheres"
          },
          {
           "clickable": true,
           "color": "#3050f8",
           "id": "--atoms--112",
           "positions": [
            [
             3.21629,
             7.427702143073999,
             4.589577916560001
            ]
           ],
           "radius": 0.5,
           "tooltip": "N (3.216, 7.428, 4.590)",
           "type": "spheres"
          },
          {
           "clickable": true,
           "color": "#3050f8",
           "id": "--atoms--113",
           "positions": [
            [
             11.257014999999999,
             6.499242856926,
             7.209558916560001
            ]
           ],
           "radius": 0.5,
           "tooltip": "N (11.257, 6.499, 7.210)",
           "type": "spheres"
          },
          {
           "clickable": true,
           "color": "#c28f8f",
           "id": "--atoms--114",
           "positions": [
            [
             4.824434999999999,
             6.499242856926,
             -0.004611166560001121
            ]
           ],
           "radius": 0.5,
           "tooltip": "Ga (4.824, 6.499, -0.005)",
           "type": "spheres"
          },
          {
           "clickable": true,
           "color": "#c28f8f",
           "id": "--atoms--115",
           "positions": [
            [
             6.43258,
             1.8569241430740002,
             7.855331833439999
            ]
           ],
           "radius": 0.5,
           "tooltip": "Ga (6.433, 1.857, 7.855)",
           "type": "spheres"
          },
          {
           "clickable": true,
           "color": "#c28f8f",
           "id": "--atoms--116",
           "positions": [
            [
             0,
             7.427702143073999,
             2.61536983344
            ]
           ],
           "radius": 0.5,
           "tooltip": "Ga (0.000, 7.428, 2.615)",
           "type": "spheres"
          },
          {
           "clickable": true,
           "color": "#3050f8",
           "id": "--atoms--117",
           "positions": [
            [
             8.040725000000002,
             4.6423131430739994,
             9.829539916560002
            ]
           ],
           "radius": 0.5,
           "tooltip": "N (8.041, 4.642, 9.830)",
           "type": "spheres"
          },
          {
           "clickable": true,
           "color": "#c28f8f",
           "id": "--atoms--118",
           "positions": [
            [
             11.257014999999999,
             10.213091143074001,
             2.61536983344
            ]
           ],
           "radius": 0.5,
           "tooltip": "Ga (11.257, 10.213, 2.615)",
           "type": "spheres"
          },
          {
           "clickable": true,
           "color": "#c28f8f",
           "id": "--atoms--119",
           "positions": [
            [
             8.040725000000002,
             4.6423131430739994,
             7.855331833439999
            ]
           ],
           "radius": 0.5,
           "tooltip": "Ga (8.041, 4.642, 7.855)",
           "type": "spheres"
          },
          {
           "clickable": true,
           "color": "#3050f8",
           "id": "--atoms--120",
           "positions": [
            [
             9.64887,
             7.427702143073999,
             9.829539916560002
            ]
           ],
           "radius": 0.5,
           "tooltip": "N (9.649, 7.428, 9.830)",
           "type": "spheres"
          },
          {
           "clickable": true,
           "color": "#3050f8",
           "id": "--atoms--121",
           "positions": [
            [
             0,
             1.8569241430740002,
             4.589577916560001
            ]
           ],
           "radius": 0.5,
           "tooltip": "N (0.000, 1.857, 4.590)",
           "type": "spheres"
          },
          {
           "clickable": true,
           "color": "#c28f8f",
           "id": "--atoms--122",
           "positions": [
            [
             12.86516,
             7.427702143073999,
             2.61536983344
            ]
           ],
           "radius": 0.5,
           "tooltip": "Ga (12.865, 7.428, 2.615)",
           "type": "spheres"
          },
          {
           "clickable": true,
           "color": "#c28f8f",
           "id": "--atoms--123",
           "positions": [
            [
             1.608145,
             6.499242856926,
             5.23535083344
            ]
           ],
           "radius": 0.5,
           "tooltip": "Ga (1.608, 6.499, 5.235)",
           "type": "spheres"
          },
          {
           "clickable": true,
           "color": "#c28f8f",
           "id": "--atoms--124",
           "positions": [
            [
             6.43258,
             9.284631856926,
             10.475312833439999
            ]
           ],
           "radius": 0.5,
           "tooltip": "Ga (6.433, 9.285, 10.475)",
           "type": "spheres"
          },
          {
           "clickable": true,
           "color": "#3050f8",
           "id": "--atoms--125",
           "positions": [
            [
             3.21629,
             9.284631856926,
             1.96959691656
            ]
           ],
           "radius": 0.5,
           "tooltip": "N (3.216, 9.285, 1.970)",
           "type": "spheres"
          },
          {
           "clickable": true,
           "color": "#3050f8",
           "id": "--atoms--126",
           "positions": [
            [
             12.86516,
             1.8569241430740002,
             4.589577916560001
            ]
           ],
           "radius": 0.5,
           "tooltip": "N (12.865, 1.857, 4.590)",
           "type": "spheres"
          },
          {
           "clickable": true,
           "color": "#c28f8f",
           "id": "--atoms--127",
           "positions": [
            [
             3.21629,
             9.284631856926,
             5.23535083344
            ]
           ],
           "radius": 0.5,
           "tooltip": "Ga (3.216, 9.285, 5.235)",
           "type": "spheres"
          },
          {
           "clickable": true,
           "color": "#c28f8f",
           "id": "--atoms--128",
           "positions": [
            [
             4.824434999999999,
             0.9284648569260002,
             10.475312833439999
            ]
           ],
           "radius": 0.5,
           "tooltip": "Ga (4.824, 0.928, 10.475)",
           "type": "spheres"
          },
          {
           "clickable": true,
           "color": "#c28f8f",
           "id": "--atoms--129",
           "positions": [
            [
             11.257014999999999,
             6.499242856926,
             5.23535083344
            ]
           ],
           "radius": 0.5,
           "tooltip": "Ga (11.257, 6.499, 5.235)",
           "type": "spheres"
          },
          {
           "clickable": true,
           "color": "#3050f8",
           "id": "--atoms--130",
           "positions": [
            [
             1.608145,
             0.9284648569260002,
             1.96959691656
            ]
           ],
           "radius": 0.5,
           "tooltip": "N (1.608, 0.928, 1.970)",
           "type": "spheres"
          },
          {
           "clickable": true,
           "color": "#3050f8",
           "id": "--atoms--131",
           "positions": [
            [
             6.43258,
             3.713853856926,
             7.209558916560001
            ]
           ],
           "radius": 0.5,
           "tooltip": "N (6.433, 3.714, 7.210)",
           "type": "spheres"
          },
          {
           "clickable": true,
           "color": "#c28f8f",
           "id": "--atoms--132",
           "positions": [
            [
             1.608145,
             10.213091143074001,
             7.855331833439999
            ]
           ],
           "radius": 0.5,
           "tooltip": "Ga (1.608, 10.213, 7.855)",
           "type": "spheres"
          },
          {
           "clickable": true,
           "color": "#c28f8f",
           "id": "--atoms--133",
           "positions": [
            [
             11.257014999999999,
             0.9284648569260002,
             5.23535083344
            ]
           ],
           "radius": 0.5,
           "tooltip": "Ga (11.257, 0.928, 5.235)",
           "type": "spheres"
          },
          {
           "clickable": true,
           "color": "#3050f8",
           "id": "--atoms--134",
           "positions": [
            [
             0,
             3.713853856926,
             1.96959691656
            ]
           ],
           "radius": 0.5,
           "tooltip": "N (0.000, 3.714, 1.970)",
           "type": "spheres"
          },
          {
           "clickable": true,
           "color": "#3050f8",
           "id": "--atoms--135",
           "positions": [
            [
             8.040725000000002,
             6.499242856926,
             7.209558916560001
            ]
           ],
           "radius": 0.5,
           "tooltip": "N (8.041, 6.499, 7.210)",
           "type": "spheres"
          },
          {
           "clickable": true,
           "color": "#c28f8f",
           "id": "--atoms--136",
           "positions": [
            [
             1.608145,
             6.499242856926,
             -0.004611166560001121
            ]
           ],
           "radius": 0.5,
           "tooltip": "Ga (1.608, 6.499, -0.005)",
           "type": "spheres"
          },
          {
           "clickable": true,
           "color": "#c28f8f",
           "id": "--atoms--137",
           "positions": [
            [
             9.64887,
             7.427702143073999,
             2.61536983344
            ]
           ],
           "radius": 0.5,
           "tooltip": "Ga (9.649, 7.428, 2.615)",
           "type": "spheres"
          },
          {
           "clickable": true,
           "color": "#c28f8f",
           "id": "--atoms--138",
           "positions": [
            [
             3.21629,
             1.8569241430740002,
             7.855331833439999
            ]
           ],
           "radius": 0.5,
           "tooltip": "Ga (3.216, 1.857, 7.855)",
           "type": "spheres"
          },
          {
           "clickable": true,
           "color": "#c28f8f",
           "id": "--atoms--139",
           "positions": [
            [
             0,
             3.713853856926,
             5.23535083344
            ]
           ],
           "radius": 0.5,
           "tooltip": "Ga (0.000, 3.714, 5.235)",
           "type": "spheres"
          },
          {
           "clickable": true,
           "color": "#3050f8",
           "id": "--atoms--140",
           "positions": [
            [
             4.824434999999999,
             4.6423131430739994,
             9.829539916560002
            ]
           ],
           "radius": 0.5,
           "tooltip": "N (4.824, 4.642, 9.830)",
           "type": "spheres"
          },
          {
           "clickable": true,
           "color": "#3050f8",
           "id": "--atoms--141",
           "positions": [
            [
             8.040725000000002,
             0.9284648569260002,
             7.209558916560001
            ]
           ],
           "radius": 0.5,
           "tooltip": "N (8.041, 0.928, 7.210)",
           "type": "spheres"
          },
          {
           "clickable": true,
           "color": "#3050f8",
           "id": "--atoms--142",
           "positions": [
            [
             12.86516,
             3.713853856926,
             1.96959691656
            ]
           ],
           "radius": 0.5,
           "tooltip": "N (12.865, 3.714, 1.970)",
           "type": "spheres"
          },
          {
           "clickable": true,
           "color": "#c28f8f",
           "id": "--atoms--143",
           "positions": [
            [
             9.64887,
             1.8569241430740002,
             2.61536983344
            ]
           ],
           "radius": 0.5,
           "tooltip": "Ga (9.649, 1.857, 2.615)",
           "type": "spheres"
          },
          {
           "clickable": true,
           "color": "#3050f8",
           "id": "--atoms--144",
           "positions": [
            [
             4.824434999999999,
             10.213091143074001,
             9.829539916560002
            ]
           ],
           "radius": 0.5,
           "tooltip": "N (4.824, 10.213, 9.830)",
           "type": "spheres"
          },
          {
           "clickable": true,
           "color": "#c28f8f",
           "id": "--atoms--145",
           "positions": [
            [
             4.824434999999999,
             4.6423131430739994,
             7.855331833439999
            ]
           ],
           "radius": 0.5,
           "tooltip": "Ga (4.824, 4.642, 7.855)",
           "type": "spheres"
          },
          {
           "clickable": true,
           "color": "#3050f8",
           "id": "--atoms--146",
           "positions": [
            [
             6.43258,
             7.427702143073999,
             9.829539916560002
            ]
           ],
           "radius": 0.5,
           "tooltip": "N (6.433, 7.428, 9.830)",
           "type": "spheres"
          },
          {
           "clickable": true,
           "color": "#c28f8f",
           "id": "--atoms--147",
           "positions": [
            [
             11.257014999999999,
             0.9284648569260002,
             -0.004611166560001121
            ]
           ],
           "radius": 0.5,
           "tooltip": "Ga (11.257, 0.928, -0.005)",
           "type": "spheres"
          },
          {
           "clickable": true,
           "color": "#c28f8f",
           "id": "--atoms--148",
           "positions": [
            [
             12.86516,
             3.713853856926,
             5.23535083344
            ]
           ],
           "radius": 0.5,
           "tooltip": "Ga (12.865, 3.714, 5.235)",
           "type": "spheres"
          },
          {
           "clickable": true,
           "color": "#c28f8f",
           "id": "--atoms--149",
           "positions": [
            [
             4.824434999999999,
             10.213091143074001,
             7.855331833439999
            ]
           ],
           "radius": 0.5,
           "tooltip": "Ga (4.824, 10.213, 7.855)",
           "type": "spheres"
          },
          {
           "clickable": true,
           "color": "#c28f8f",
           "id": "--atoms--150",
           "positions": [
            [
             11.257014999999999,
             4.6423131430739994,
             2.61536983344
            ]
           ],
           "radius": 0.5,
           "tooltip": "Ga (11.257, 4.642, 2.615)",
           "type": "spheres"
          },
          {
           "clickable": true,
           "color": "#c28f8f",
           "id": "--atoms--151",
           "positions": [
            [
             3.21629,
             9.284631856926,
             10.475312833439999
            ]
           ],
           "radius": 0.5,
           "tooltip": "Ga (3.216, 9.285, 10.475)",
           "type": "spheres"
          },
          {
           "clickable": true,
           "color": "#3050f8",
           "id": "--atoms--152",
           "positions": [
            [
             6.43258,
             1.8569241430740002,
             9.829539916560002
            ]
           ],
           "radius": 0.5,
           "tooltip": "N (6.433, 1.857, 9.830)",
           "type": "spheres"
          },
          {
           "clickable": true,
           "color": "#3050f8",
           "id": "--atoms--153",
           "positions": [
            [
             0,
             7.427702143073999,
             4.589577916560001
            ]
           ],
           "radius": 0.5,
           "tooltip": "N (0.000, 7.428, 4.590)",
           "type": "spheres"
          },
          {
           "clickable": true,
           "color": "#3050f8",
           "id": "--atoms--154",
           "positions": [
            [
             1.608145,
             0.9284648569260002,
             7.209558916560001
            ]
           ],
           "radius": 0.5,
           "tooltip": "N (1.608, 0.928, 7.210)",
           "type": "spheres"
          },
          {
           "clickable": true,
           "color": "#c28f8f",
           "id": "--atoms--155",
           "positions": [
            [
             3.21629,
             3.713853856926,
             10.475312833439999
            ]
           ],
           "radius": 0.5,
           "tooltip": "Ga (3.216, 3.714, 10.475)",
           "type": "spheres"
          },
          {
           "clickable": true,
           "color": "#c28f8f",
           "id": "--atoms--156",
           "positions": [
            [
             0,
             3.713853856926,
             -0.004611166560001121
            ]
           ],
           "radius": 0.5,
           "tooltip": "Ga (0.000, 3.714, -0.005)",
           "type": "spheres"
          },
          {
           "clickable": true,
           "color": "#c28f8f",
           "id": "--atoms--157",
           "positions": [
            [
             1.608145,
             0.9284648569260002,
             10.475312833439999
            ]
           ],
           "radius": 0.5,
           "tooltip": "Ga (1.608, 0.928, 10.475)",
           "type": "spheres"
          },
          {
           "clickable": true,
           "color": "#3050f8",
           "id": "--atoms--158",
           "positions": [
            [
             11.257014999999999,
             10.213091143074001,
             4.589577916560001
            ]
           ],
           "radius": 0.5,
           "tooltip": "N (11.257, 10.213, 4.590)",
           "type": "spheres"
          },
          {
           "clickable": true,
           "color": "#3050f8",
           "id": "--atoms--159",
           "positions": [
            [
             12.86516,
             7.427702143073999,
             4.589577916560001
            ]
           ],
           "radius": 0.5,
           "tooltip": "N (12.865, 7.428, 4.590)",
           "type": "spheres"
          }
         ],
         "id": "--atoms",
         "name": "atoms",
         "origin": [
          -6.43258,
          -5.570778,
          -5.239962
         ],
         "visible": true
        },
        {
         "contents": [],
         "id": "--bonds",
         "name": "bonds",
         "origin": [
          -6.43258,
          -5.570778,
          -5.239962
         ],
         "visible": true
        },
        {
         "contents": [],
         "id": "--polyhedra",
         "name": "polyhedra",
         "origin": [
          -6.43258,
          -5.570778,
          -5.239962
         ],
         "visible": true
        },
        {
         "contents": [],
         "id": "--magmoms",
         "name": "magmoms",
         "origin": [
          -6.43258,
          -5.570778,
          -5.239962
         ],
         "visible": true
        },
        {
         "contents": [
          {
           "contents": [
            {
             "clickable": false,
             "id": "--unit_cell--a=12.86516, b=11.141556, c=10.479924, alpha=90.0, beta=90.0, gamma=90.0--0",
             "positions": [
              [
               0,
               0,
               0
              ],
              [
               12.86516,
               0,
               0
              ],
              [
               0,
               0,
               0
              ],
              [
               0,
               11.141556,
               0
              ],
              [
               0,
               0,
               0
              ],
              [
               0,
               0,
               10.479924
              ],
              [
               12.86516,
               0,
               0
              ],
              [
               12.86516,
               11.141556,
               0
              ],
              [
               12.86516,
               0,
               0
              ],
              [
               12.86516,
               0,
               10.479924
              ],
              [
               0,
               11.141556,
               0
              ],
              [
               12.86516,
               11.141556,
               0
              ],
              [
               0,
               11.141556,
               0
              ],
              [
               0,
               11.141556,
               10.479924
              ],
              [
               0,
               0,
               10.479924
              ],
              [
               12.86516,
               0,
               10.479924
              ],
              [
               0,
               0,
               10.479924
              ],
              [
               0,
               11.141556,
               10.479924
              ],
              [
               12.86516,
               11.141556,
               0
              ],
              [
               12.86516,
               11.141556,
               10.479924
              ],
              [
               12.86516,
               0,
               10.479924
              ],
              [
               12.86516,
               11.141556,
               10.479924
              ],
              [
               0,
               11.141556,
               10.479924
              ],
              [
               12.86516,
               11.141556,
               10.479924
              ]
             ],
             "type": "lines"
            }
           ],
           "id": "--unit_cell--a=12.86516, b=11.141556, c=10.479924, alpha=90.0, beta=90.0, gamma=90.0",
           "name": "a=12.86516, b=11.141556, c=10.479924, alpha=90.0, beta=90.0, gamma=90.0",
           "visible": true
          }
         ],
         "id": "--unit_cell",
         "name": "unit_cell",
         "origin": [
          -6.43258,
          -5.570778,
          -5.239962
         ],
         "visible": true
        }
       ],
       "lattice": [
        [
         12.86516,
         0,
         0
        ],
        [
         0,
         11.141556,
         0
        ],
        [
         0,
         0,
         10.479924
        ]
       ],
       "name": "Structure",
       "origin": [
        -6.43258,
        -5.570778,
        -5.239962
       ],
       "visible": true
      },
      "text/plain": [
       "If you see this text, the Crystal Toolkit Jupyter Lab \n",
       "\n",
       "extension is not installed. You can install it by running \n",
       "\n",
       "\"pip install crystaltoolkit-extension\" \n",
       "\n",
       "from the same environment you run \"jupyter lab\". \n",
       "\n",
       "This only works in Jupyter Lab 3.x or above.\n",
       "\n",
       "\n",
       "Structure Summary\n",
       "Lattice\n",
       "    abc : 12.86516 11.141556 10.479924\n",
       " angles : 90.0 90.0 90.0\n",
       " volume : 1502.170304491856\n",
       "      A : 12.86516 0.0 0.0\n",
       "      B : 0.0 11.141556 0.0\n",
       "      C : 0.0 0.0 10.479924\n",
       "    pbc : True True True\n",
       "PeriodicSite: Ga (1.6081, 4.6423, 2.6154) [0.1250, 0.4167, 0.2496]\n",
       "PeriodicSite: Ga (1.6081, 4.6423, 7.8553) [0.1250, 0.4167, 0.7496]\n",
       "PeriodicSite: Ga (3.2163, 7.4277, 2.6154) [0.2500, 0.6667, 0.2496]\n",
       "PeriodicSite: Ga (3.2163, 7.4277, 7.8553) [0.2500, 0.6667, 0.7496]\n",
       "PeriodicSite: Mg (1.6081, 10.2131, 2.6154) [0.1250, 0.9167, 0.2496]\n",
       "PeriodicSite: Ga (1.6081, 10.2131, 7.8553) [0.1250, 0.9167, 0.7496]\n",
       "PeriodicSite: Ga (3.2163, 1.8569, 2.6154) [0.2500, 0.1667, 0.2496]\n",
       "PeriodicSite: Ga (3.2163, 1.8569, 7.8553) [0.2500, 0.1667, 0.7496]\n",
       "PeriodicSite: Ga (4.8244, 4.6423, 2.6154) [0.3750, 0.4167, 0.2496]\n",
       "PeriodicSite: Ga (4.8244, 4.6423, 7.8553) [0.3750, 0.4167, 0.7496]\n",
       "PeriodicSite: Ga (6.4326, 7.4277, 2.6154) [0.5000, 0.6667, 0.2496]\n",
       "PeriodicSite: Ga (6.4326, 7.4277, 7.8553) [0.5000, 0.6667, 0.7496]\n",
       "PeriodicSite: Ga (4.8244, 10.2131, 2.6154) [0.3750, 0.9167, 0.2496]\n",
       "PeriodicSite: Ga (4.8244, 10.2131, 7.8553) [0.3750, 0.9167, 0.7496]\n",
       "PeriodicSite: Ga (6.4326, 1.8569, 2.6154) [0.5000, 0.1667, 0.2496]\n",
       "PeriodicSite: Ga (6.4326, 1.8569, 7.8553) [0.5000, 0.1667, 0.7496]\n",
       "PeriodicSite: Ga (8.0407, 4.6423, 2.6154) [0.6250, 0.4167, 0.2496]\n",
       "PeriodicSite: Ga (8.0407, 4.6423, 7.8553) [0.6250, 0.4167, 0.7496]\n",
       "PeriodicSite: Ga (9.6489, 7.4277, 2.6154) [0.7500, 0.6667, 0.2496]\n",
       "PeriodicSite: Ga (9.6489, 7.4277, 7.8553) [0.7500, 0.6667, 0.7496]\n",
       "PeriodicSite: Ga (8.0407, 10.2131, 2.6154) [0.6250, 0.9167, 0.2496]\n",
       "PeriodicSite: Ga (8.0407, 10.2131, 7.8553) [0.6250, 0.9167, 0.7496]\n",
       "PeriodicSite: Ga (9.6489, 1.8569, 2.6154) [0.7500, 0.1667, 0.2496]\n",
       "PeriodicSite: Ga (9.6489, 1.8569, 7.8553) [0.7500, 0.1667, 0.7496]\n",
       "PeriodicSite: Ga (11.2570, 4.6423, 2.6154) [0.8750, 0.4167, 0.2496]\n",
       "PeriodicSite: Ga (11.2570, 4.6423, 7.8553) [0.8750, 0.4167, 0.7496]\n",
       "PeriodicSite: Ga (0.0000, 7.4277, 2.6154) [0.0000, 0.6667, 0.2496]\n",
       "PeriodicSite: Ga (0.0000, 7.4277, 7.8553) [0.0000, 0.6667, 0.7496]\n",
       "PeriodicSite: Ga (11.2570, 10.2131, 2.6154) [0.8750, 0.9167, 0.2496]\n",
       "PeriodicSite: Ga (11.2570, 10.2131, 7.8553) [0.8750, 0.9167, 0.7496]\n",
       "PeriodicSite: Ga (0.0000, 1.8569, 2.6154) [0.0000, 0.1667, 0.2496]\n",
       "PeriodicSite: Ga (0.0000, 1.8569, 7.8553) [0.0000, 0.1667, 0.7496]\n",
       "PeriodicSite: Ga (1.6081, 6.4992, 5.2354) [0.1250, 0.5833, 0.4996]\n",
       "PeriodicSite: Ga (1.6081, 6.4992, 10.4753) [0.1250, 0.5833, 0.9996]\n",
       "PeriodicSite: Ga (3.2163, 9.2846, 5.2354) [0.2500, 0.8333, 0.4996]\n",
       "PeriodicSite: Ga (3.2163, 9.2846, 10.4753) [0.2500, 0.8333, 0.9996]\n",
       "PeriodicSite: Ga (1.6081, 0.9285, 5.2354) [0.1250, 0.0833, 0.4996]\n",
       "PeriodicSite: Ga (1.6081, 0.9285, 10.4753) [0.1250, 0.0833, 0.9996]\n",
       "PeriodicSite: Ga (3.2163, 3.7139, 5.2354) [0.2500, 0.3333, 0.4996]\n",
       "PeriodicSite: Ga (3.2163, 3.7139, 10.4753) [0.2500, 0.3333, 0.9996]\n",
       "PeriodicSite: Ga (4.8244, 6.4992, 5.2354) [0.3750, 0.5833, 0.4996]\n",
       "PeriodicSite: Ga (4.8244, 6.4992, 10.4753) [0.3750, 0.5833, 0.9996]\n",
       "PeriodicSite: Ga (6.4326, 9.2846, 5.2354) [0.5000, 0.8333, 0.4996]\n",
       "PeriodicSite: Ga (6.4326, 9.2846, 10.4753) [0.5000, 0.8333, 0.9996]\n",
       "PeriodicSite: Ga (4.8244, 0.9285, 5.2354) [0.3750, 0.0833, 0.4996]\n",
       "PeriodicSite: Ga (4.8244, 0.9285, 10.4753) [0.3750, 0.0833, 0.9996]\n",
       "PeriodicSite: Ga (6.4326, 3.7139, 5.2354) [0.5000, 0.3333, 0.4996]\n",
       "PeriodicSite: Ga (6.4326, 3.7139, 10.4753) [0.5000, 0.3333, 0.9996]\n",
       "PeriodicSite: Ga (8.0407, 6.4992, 5.2354) [0.6250, 0.5833, 0.4996]\n",
       "PeriodicSite: Ga (8.0407, 6.4992, 10.4753) [0.6250, 0.5833, 0.9996]\n",
       "PeriodicSite: Ga (9.6489, 9.2846, 5.2354) [0.7500, 0.8333, 0.4996]\n",
       "PeriodicSite: Ga (9.6489, 9.2846, 10.4753) [0.7500, 0.8333, 0.9996]\n",
       "PeriodicSite: Ga (8.0407, 0.9285, 5.2354) [0.6250, 0.0833, 0.4996]\n",
       "PeriodicSite: Ga (8.0407, 0.9285, 10.4753) [0.6250, 0.0833, 0.9996]\n",
       "PeriodicSite: Ga (9.6489, 3.7139, 5.2354) [0.7500, 0.3333, 0.4996]\n",
       "PeriodicSite: Ga (9.6489, 3.7139, 10.4753) [0.7500, 0.3333, 0.9996]\n",
       "PeriodicSite: Ga (11.2570, 6.4992, 5.2354) [0.8750, 0.5833, 0.4996]\n",
       "PeriodicSite: Ga (11.2570, 6.4992, 10.4753) [0.8750, 0.5833, 0.9996]\n",
       "PeriodicSite: Ga (0.0000, 9.2846, 5.2354) [0.0000, 0.8333, 0.4996]\n",
       "PeriodicSite: Ga (0.0000, 9.2846, 10.4753) [0.0000, 0.8333, 0.9996]\n",
       "PeriodicSite: Ga (11.2570, 0.9285, 5.2354) [0.8750, 0.0833, 0.4996]\n",
       "PeriodicSite: Ga (11.2570, 0.9285, 10.4753) [0.8750, 0.0833, 0.9996]\n",
       "PeriodicSite: Ga (0.0000, 3.7139, 5.2354) [0.0000, 0.3333, 0.4996]\n",
       "PeriodicSite: Ga (0.0000, 3.7139, 10.4753) [0.0000, 0.3333, 0.9996]\n",
       "PeriodicSite: N (1.6081, 4.6423, 4.5896) [0.1250, 0.4167, 0.4379]\n",
       "PeriodicSite: N (1.6081, 4.6423, 9.8295) [0.1250, 0.4167, 0.9379]\n",
       "PeriodicSite: N (3.2163, 7.4277, 4.5896) [0.2500, 0.6667, 0.4379]\n",
       "PeriodicSite: N (3.2163, 7.4277, 9.8295) [0.2500, 0.6667, 0.9379]\n",
       "PeriodicSite: N (1.6081, 10.2131, 4.5896) [0.1250, 0.9167, 0.4379]\n",
       "PeriodicSite: N (1.6081, 10.2131, 9.8295) [0.1250, 0.9167, 0.9379]\n",
       "PeriodicSite: N (3.2163, 1.8569, 4.5896) [0.2500, 0.1667, 0.4379]\n",
       "PeriodicSite: N (3.2163, 1.8569, 9.8295) [0.2500, 0.1667, 0.9379]\n",
       "PeriodicSite: N (4.8244, 4.6423, 4.5896) [0.3750, 0.4167, 0.4379]\n",
       "PeriodicSite: N (4.8244, 4.6423, 9.8295) [0.3750, 0.4167, 0.9379]\n",
       "PeriodicSite: N (6.4326, 7.4277, 4.5896) [0.5000, 0.6667, 0.4379]\n",
       "PeriodicSite: N (6.4326, 7.4277, 9.8295) [0.5000, 0.6667, 0.9379]\n",
       "PeriodicSite: N (4.8244, 10.2131, 4.5896) [0.3750, 0.9167, 0.4379]\n",
       "PeriodicSite: N (4.8244, 10.2131, 9.8295) [0.3750, 0.9167, 0.9379]\n",
       "PeriodicSite: N (6.4326, 1.8569, 4.5896) [0.5000, 0.1667, 0.4379]\n",
       "PeriodicSite: N (6.4326, 1.8569, 9.8295) [0.5000, 0.1667, 0.9379]\n",
       "PeriodicSite: N (8.0407, 4.6423, 4.5896) [0.6250, 0.4167, 0.4379]\n",
       "PeriodicSite: N (8.0407, 4.6423, 9.8295) [0.6250, 0.4167, 0.9379]\n",
       "PeriodicSite: N (9.6489, 7.4277, 4.5896) [0.7500, 0.6667, 0.4379]\n",
       "PeriodicSite: N (9.6489, 7.4277, 9.8295) [0.7500, 0.6667, 0.9379]\n",
       "PeriodicSite: N (8.0407, 10.2131, 4.5896) [0.6250, 0.9167, 0.4379]\n",
       "PeriodicSite: N (8.0407, 10.2131, 9.8295) [0.6250, 0.9167, 0.9379]\n",
       "PeriodicSite: N (9.6489, 1.8569, 4.5896) [0.7500, 0.1667, 0.4379]\n",
       "PeriodicSite: N (9.6489, 1.8569, 9.8295) [0.7500, 0.1667, 0.9379]\n",
       "PeriodicSite: N (11.2570, 4.6423, 4.5896) [0.8750, 0.4167, 0.4379]\n",
       "PeriodicSite: N (11.2570, 4.6423, 9.8295) [0.8750, 0.4167, 0.9379]\n",
       "PeriodicSite: N (0.0000, 7.4277, 4.5896) [0.0000, 0.6667, 0.4379]\n",
       "PeriodicSite: N (0.0000, 7.4277, 9.8295) [0.0000, 0.6667, 0.9379]\n",
       "PeriodicSite: N (11.2570, 10.2131, 4.5896) [0.8750, 0.9167, 0.4379]\n",
       "PeriodicSite: N (11.2570, 10.2131, 9.8295) [0.8750, 0.9167, 0.9379]\n",
       "PeriodicSite: N (0.0000, 1.8569, 4.5896) [0.0000, 0.1667, 0.4379]\n",
       "PeriodicSite: N (0.0000, 1.8569, 9.8295) [0.0000, 0.1667, 0.9379]\n",
       "PeriodicSite: N (1.6081, 6.4992, 1.9696) [0.1250, 0.5833, 0.1879]\n",
       "PeriodicSite: N (1.6081, 6.4992, 7.2096) [0.1250, 0.5833, 0.6879]\n",
       "PeriodicSite: N (3.2163, 9.2846, 1.9696) [0.2500, 0.8333, 0.1879]\n",
       "PeriodicSite: N (3.2163, 9.2846, 7.2096) [0.2500, 0.8333, 0.6879]\n",
       "PeriodicSite: N (1.6081, 0.9285, 1.9696) [0.1250, 0.0833, 0.1879]\n",
       "PeriodicSite: N (1.6081, 0.9285, 7.2096) [0.1250, 0.0833, 0.6879]\n",
       "PeriodicSite: N (3.2163, 3.7139, 1.9696) [0.2500, 0.3333, 0.1879]\n",
       "PeriodicSite: N (3.2163, 3.7139, 7.2096) [0.2500, 0.3333, 0.6879]\n",
       "PeriodicSite: N (4.8244, 6.4992, 1.9696) [0.3750, 0.5833, 0.1879]\n",
       "PeriodicSite: N (4.8244, 6.4992, 7.2096) [0.3750, 0.5833, 0.6879]\n",
       "PeriodicSite: N (6.4326, 9.2846, 1.9696) [0.5000, 0.8333, 0.1879]\n",
       "PeriodicSite: N (6.4326, 9.2846, 7.2096) [0.5000, 0.8333, 0.6879]\n",
       "PeriodicSite: N (4.8244, 0.9285, 1.9696) [0.3750, 0.0833, 0.1879]\n",
       "PeriodicSite: N (4.8244, 0.9285, 7.2096) [0.3750, 0.0833, 0.6879]\n",
       "PeriodicSite: N (6.4326, 3.7139, 1.9696) [0.5000, 0.3333, 0.1879]\n",
       "PeriodicSite: N (6.4326, 3.7139, 7.2096) [0.5000, 0.3333, 0.6879]\n",
       "PeriodicSite: N (8.0407, 6.4992, 1.9696) [0.6250, 0.5833, 0.1879]\n",
       "PeriodicSite: N (8.0407, 6.4992, 7.2096) [0.6250, 0.5833, 0.6879]\n",
       "PeriodicSite: N (9.6489, 9.2846, 1.9696) [0.7500, 0.8333, 0.1879]\n",
       "PeriodicSite: N (9.6489, 9.2846, 7.2096) [0.7500, 0.8333, 0.6879]\n",
       "PeriodicSite: N (8.0407, 0.9285, 1.9696) [0.6250, 0.0833, 0.1879]\n",
       "PeriodicSite: N (8.0407, 0.9285, 7.2096) [0.6250, 0.0833, 0.6879]\n",
       "PeriodicSite: N (9.6489, 3.7139, 1.9696) [0.7500, 0.3333, 0.1879]\n",
       "PeriodicSite: N (9.6489, 3.7139, 7.2096) [0.7500, 0.3333, 0.6879]\n",
       "PeriodicSite: N (11.2570, 6.4992, 1.9696) [0.8750, 0.5833, 0.1879]\n",
       "PeriodicSite: N (11.2570, 6.4992, 7.2096) [0.8750, 0.5833, 0.6879]\n",
       "PeriodicSite: N (0.0000, 9.2846, 1.9696) [0.0000, 0.8333, 0.1879]\n",
       "PeriodicSite: N (0.0000, 9.2846, 7.2096) [0.0000, 0.8333, 0.6879]\n",
       "PeriodicSite: N (11.2570, 0.9285, 1.9696) [0.8750, 0.0833, 0.1879]\n",
       "PeriodicSite: N (11.2570, 0.9285, 7.2096) [0.8750, 0.0833, 0.6879]\n",
       "PeriodicSite: N (0.0000, 3.7139, 1.9696) [0.0000, 0.3333, 0.1879]\n",
       "PeriodicSite: N (0.0000, 3.7139, 7.2096) [0.0000, 0.3333, 0.6879]"
      ]
     },
     "metadata": {},
     "output_type": "display_data"
    }
   ],
   "source": [
    "struct"
   ]
  }
 ],
 "metadata": {
  "kernelspec": {
   "display_name": "Python 3 (ipykernel)",
   "language": "python",
   "name": "python3"
  },
  "language_info": {
   "codemirror_mode": {
    "name": "ipython",
    "version": 3
   },
   "file_extension": ".py",
   "mimetype": "text/x-python",
   "name": "python",
   "nbconvert_exporter": "python",
   "pygments_lexer": "ipython3",
   "version": "3.10.4"
  },
  "vscode": {
   "interpreter": {
    "hash": "68485e4e4f6ba0276341f7d764a6dd3a7d31473cb629faa542bbbd38a80276a6"
   }
  }
 },
 "nbformat": 4,
 "nbformat_minor": 4
}
